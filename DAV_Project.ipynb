{
  "nbformat": 4,
  "nbformat_minor": 0,
  "metadata": {
    "colab": {
      "provenance": [],
      "authorship_tag": "ABX9TyNUdFf+L0uhJ0gaqx7wtIK/",
      "include_colab_link": true
    },
    "kernelspec": {
      "name": "python3",
      "display_name": "Python 3"
    },
    "language_info": {
      "name": "python"
    }
  },
  "cells": [
    {
      "cell_type": "markdown",
      "metadata": {
        "id": "view-in-github",
        "colab_type": "text"
      },
      "source": [
        "<a href=\"https://colab.research.google.com/github/vedaanth-arch/Dav-CourseEnd-Project/blob/main/DAV_Project.ipynb\" target=\"_parent\"><img src=\"https://colab.research.google.com/assets/colab-badge.svg\" alt=\"Open In Colab\"/></a>"
      ]
    },
    {
      "cell_type": "markdown",
      "source": [
        "**Defining the Question**:Compare and contrast seller types (private vs dealer) by analyzing prices, seller locations and other geographic information in order to give advice on which type of seller provides the best deals for customers"
      ],
      "metadata": {
        "id": "C6ImriG0j7gw"
      }
    },
    {
      "cell_type": "markdown",
      "source": [
        "collecting the data\n"
      ],
      "metadata": {
        "id": "nmhsHvYCkJJ4"
      }
    },
    {
      "cell_type": "code",
      "source": [
        "import kagglehub\n",
        "\n",
        "# Download latest version\n",
        "path = kagglehub.dataset_download(\"thedevastator/uncovering-factors-that-affect-used-car-prices\")\n",
        "\n",
        "print(\"Path to dataset files:\", path)"
      ],
      "metadata": {
        "colab": {
          "base_uri": "https://localhost:8080/"
        },
        "id": "X5ozxBDMh1yg",
        "outputId": "df32bc7d-e23a-4837-8bbf-71f9f33a5573"
      },
      "execution_count": 1,
      "outputs": [
        {
          "output_type": "stream",
          "name": "stdout",
          "text": [
            "Downloading from https://www.kaggle.com/api/v1/datasets/download/thedevastator/uncovering-factors-that-affect-used-car-prices?dataset_version_number=1...\n"
          ]
        },
        {
          "output_type": "stream",
          "name": "stderr",
          "text": [
            "100%|██████████| 18.2M/18.2M [00:00<00:00, 49.9MB/s]"
          ]
        },
        {
          "output_type": "stream",
          "name": "stdout",
          "text": [
            "Extracting files...\n"
          ]
        },
        {
          "output_type": "stream",
          "name": "stderr",
          "text": [
            "\n"
          ]
        },
        {
          "output_type": "stream",
          "name": "stdout",
          "text": [
            "Path to dataset files: /root/.cache/kagglehub/datasets/thedevastator/uncovering-factors-that-affect-used-car-prices/versions/1\n"
          ]
        }
      ]
    },
    {
      "cell_type": "markdown",
      "source": [
        "Importing the data\n"
      ],
      "metadata": {
        "id": "lh9hJ8JGkM6Y"
      }
    },
    {
      "cell_type": "code",
      "source": [
        "import csv\n",
        "import pandas as pd;\n",
        "file = open('/autos.csv', 'r')\n",
        "reader = csv.reader(file)\n",
        "print(\"-\"*30)\n",
        "df = pd.read_csv('/autos.csv');\n",
        "print(df)"
      ],
      "metadata": {
        "colab": {
          "base_uri": "https://localhost:8080/"
        },
        "id": "NDqagM4fkQKw",
        "outputId": "bcb25402-c32b-4ed4-eda2-900b4bec446e"
      },
      "execution_count": 4,
      "outputs": [
        {
          "output_type": "stream",
          "name": "stdout",
          "text": [
            "------------------------------\n",
            "         index          dateCrawled  \\\n",
            "0            0  2016-03-24 11:52:17   \n",
            "1            1  2016-03-24 10:58:45   \n",
            "2            2  2016-03-14 12:52:21   \n",
            "3            3  2016-03-17 16:54:04   \n",
            "4            4  2016-03-31 17:25:20   \n",
            "...        ...                  ...   \n",
            "371523  371523  2016-03-14 17:48:27   \n",
            "371524  371524  2016-03-05 19:56:21   \n",
            "371525  371525  2016-03-19 18:57:12   \n",
            "371526  371526  2016-03-20 19:41:08   \n",
            "371527  371527  2016-03-07 19:39:19   \n",
            "\n",
            "                                                name  seller offerType  price  \\\n",
            "0                                         Golf_3_1.6  privat   Angebot    480   \n",
            "1                               A5_Sportback_2.7_Tdi  privat   Angebot  18300   \n",
            "2                     Jeep_Grand_Cherokee_\"Overland\"  privat   Angebot   9800   \n",
            "3                                 GOLF_4_1_4__3TÜRER  privat   Angebot   1500   \n",
            "4                     Skoda_Fabia_1.4_TDI_PD_Classic  privat   Angebot   3600   \n",
            "...                                              ...     ...       ...    ...   \n",
            "371523                    Suche_t4___vito_ab_6_sitze  privat   Angebot   2200   \n",
            "371524         Smart_smart_leistungssteigerung_100ps  privat   Angebot   1199   \n",
            "371525            Volkswagen_Multivan_T4_TDI_7DC_UY2  privat   Angebot   9200   \n",
            "371526                        VW_Golf_Kombi_1_9l_TDI  privat   Angebot   3400   \n",
            "371527  BMW_M135i_vollausgestattet_NP_52.720____Euro  privat   Angebot  28990   \n",
            "\n",
            "         abtest vehicleType  yearOfRegistration    gearbox  ...        model  \\\n",
            "0          test         NaN                1993    manuell  ...         golf   \n",
            "1          test       coupe                2011    manuell  ...          NaN   \n",
            "2          test         suv                2004  automatik  ...        grand   \n",
            "3          test  kleinwagen                2001    manuell  ...         golf   \n",
            "4          test  kleinwagen                2008    manuell  ...        fabia   \n",
            "...         ...         ...                 ...        ...  ...          ...   \n",
            "371523     test         NaN                2005        NaN  ...          NaN   \n",
            "371524     test      cabrio                2000  automatik  ...       fortwo   \n",
            "371525     test         bus                1996    manuell  ...  transporter   \n",
            "371526     test       kombi                2002    manuell  ...         golf   \n",
            "371527  control   limousine                2013    manuell  ...      m_reihe   \n",
            "\n",
            "       kilometer  monthOfRegistration  fuelType           brand  \\\n",
            "0         150000                    0    benzin      volkswagen   \n",
            "1         125000                    5    diesel            audi   \n",
            "2         125000                    8    diesel            jeep   \n",
            "3         150000                    6    benzin      volkswagen   \n",
            "4          90000                    7    diesel           skoda   \n",
            "...          ...                  ...       ...             ...   \n",
            "371523     20000                    1       NaN  sonstige_autos   \n",
            "371524    125000                    3    benzin           smart   \n",
            "371525    150000                    3    diesel      volkswagen   \n",
            "371526    150000                    6    diesel      volkswagen   \n",
            "371527     50000                    8    benzin             bmw   \n",
            "\n",
            "       notRepairedDamage          dateCreated nrOfPictures  postalCode  \\\n",
            "0                    NaN  2016-03-24 00:00:00            0       70435   \n",
            "1                     ja  2016-03-24 00:00:00            0       66954   \n",
            "2                    NaN  2016-03-14 00:00:00            0       90480   \n",
            "3                   nein  2016-03-17 00:00:00            0       91074   \n",
            "4                   nein  2016-03-31 00:00:00            0       60437   \n",
            "...                  ...                  ...          ...         ...   \n",
            "371523               NaN  2016-03-14 00:00:00            0       39576   \n",
            "371524              nein  2016-03-05 00:00:00            0       26135   \n",
            "371525              nein  2016-03-19 00:00:00            0       87439   \n",
            "371526               NaN  2016-03-20 00:00:00            0       40764   \n",
            "371527              nein  2016-03-07 00:00:00            0       73326   \n",
            "\n",
            "                   lastSeen  \n",
            "0       2016-04-07 03:16:57  \n",
            "1       2016-04-07 01:46:50  \n",
            "2       2016-04-05 12:47:46  \n",
            "3       2016-03-17 17:40:17  \n",
            "4       2016-04-06 10:17:21  \n",
            "...                     ...  \n",
            "371523  2016-04-06 00:46:52  \n",
            "371524  2016-03-11 18:17:12  \n",
            "371525  2016-04-07 07:15:26  \n",
            "371526  2016-03-24 12:45:21  \n",
            "371527  2016-03-22 03:17:10  \n",
            "\n",
            "[371528 rows x 21 columns]\n"
          ]
        }
      ]
    },
    {
      "cell_type": "markdown",
      "source": [
        "cleaning the data"
      ],
      "metadata": {
        "id": "q_HCvzxFlo-t"
      }
    },
    {
      "cell_type": "code",
      "source": [
        "import csv\n",
        "import pandas as pd\n",
        "\n",
        "# Open and read the CSV file line by line\n",
        "file = open('/autos.csv', 'r')\n",
        "reader = csv.reader(file)\n",
        "for row in reader:\n",
        "    print(row)\n",
        "    break  # Remove this break if you want to print all rows (can be long)\n",
        "\n",
        "print(\"-\" * 30)\n",
        "\n",
        "# Load the CSV using pandas\n",
        "df = pd.read_csv('/autos.csv')\n",
        "\n",
        "# Select required columns\n",
        "df = df[[\n",
        "    \"name\", \"seller\", \"price\", \"vehicleType\", \"yearOfRegistration\", \"monthOfRegistration\",\n",
        "    \"gearbox\", \"model\", \"kilometer\", \"notRepairedDamage\", \"fuelType\", \"brand\"\n",
        "]]\n",
        "\n",
        "# Combine year and month into one column\n",
        "df[\"registrationDate\"] = df[\"yearOfRegistration\"].astype(str) + \"-\" + df[\"monthOfRegistration\"].astype(str).str.zfill(2)\n",
        "\n",
        "# Drop original year and month columns\n",
        "df.drop(columns=[\"yearOfRegistration\", \"monthOfRegistration\"], inplace=True)\n",
        "\n",
        "# Print the cleaned DataFrame\n",
        "print(df)\n"
      ],
      "metadata": {
        "colab": {
          "base_uri": "https://localhost:8080/"
        },
        "id": "tJKn6mGwoneP",
        "outputId": "8d303166-6227-4ec9-bd5c-8cf9c4c413e3"
      },
      "execution_count": 3,
      "outputs": [
        {
          "output_type": "stream",
          "name": "stdout",
          "text": [
            "['index', 'dateCrawled', 'name', 'seller', 'offerType', 'price', 'abtest', 'vehicleType', 'yearOfRegistration', 'gearbox', 'powerPS', 'model', 'kilometer', 'monthOfRegistration', 'fuelType', 'brand', 'notRepairedDamage', 'dateCreated', 'nrOfPictures', 'postalCode', 'lastSeen']\n",
            "------------------------------\n",
            "                                                name  seller  price  \\\n",
            "0                                         Golf_3_1.6  privat    480   \n",
            "1                               A5_Sportback_2.7_Tdi  privat  18300   \n",
            "2                     Jeep_Grand_Cherokee_\"Overland\"  privat   9800   \n",
            "3                                 GOLF_4_1_4__3TÜRER  privat   1500   \n",
            "4                     Skoda_Fabia_1.4_TDI_PD_Classic  privat   3600   \n",
            "...                                              ...     ...    ...   \n",
            "371523                    Suche_t4___vito_ab_6_sitze  privat   2200   \n",
            "371524         Smart_smart_leistungssteigerung_100ps  privat   1199   \n",
            "371525            Volkswagen_Multivan_T4_TDI_7DC_UY2  privat   9200   \n",
            "371526                        VW_Golf_Kombi_1_9l_TDI  privat   3400   \n",
            "371527  BMW_M135i_vollausgestattet_NP_52.720____Euro  privat  28990   \n",
            "\n",
            "       vehicleType    gearbox        model  kilometer notRepairedDamage  \\\n",
            "0              NaN    manuell         golf     150000               NaN   \n",
            "1            coupe    manuell          NaN     125000                ja   \n",
            "2              suv  automatik        grand     125000               NaN   \n",
            "3       kleinwagen    manuell         golf     150000              nein   \n",
            "4       kleinwagen    manuell        fabia      90000              nein   \n",
            "...            ...        ...          ...        ...               ...   \n",
            "371523         NaN        NaN          NaN      20000               NaN   \n",
            "371524      cabrio  automatik       fortwo     125000              nein   \n",
            "371525         bus    manuell  transporter     150000              nein   \n",
            "371526       kombi    manuell         golf     150000               NaN   \n",
            "371527   limousine    manuell      m_reihe      50000              nein   \n",
            "\n",
            "       fuelType           brand registrationDate  \n",
            "0        benzin      volkswagen          1993-00  \n",
            "1        diesel            audi          2011-05  \n",
            "2        diesel            jeep          2004-08  \n",
            "3        benzin      volkswagen          2001-06  \n",
            "4        diesel           skoda          2008-07  \n",
            "...         ...             ...              ...  \n",
            "371523      NaN  sonstige_autos          2005-01  \n",
            "371524   benzin           smart          2000-03  \n",
            "371525   diesel      volkswagen          1996-03  \n",
            "371526   diesel      volkswagen          2002-06  \n",
            "371527   benzin             bmw          2013-08  \n",
            "\n",
            "[371528 rows x 11 columns]\n"
          ]
        }
      ]
    },
    {
      "cell_type": "markdown",
      "source": [
        "Checking for missing values"
      ],
      "metadata": {
        "id": "711pT07zpWjo"
      }
    },
    {
      "cell_type": "code",
      "source": [
        "import csv\n",
        "import pandas as pd\n",
        "\n",
        "# Open and read CSV using csv.reader\n",
        "file = open('/autos.csv', 'r')\n",
        "reader = csv.reader(file)\n",
        "for row in reader:\n",
        "    print(row)\n",
        "    break  # only show header row to avoid long output\n",
        "\n",
        "print(\"-\" * 30)\n",
        "\n",
        "# Load the CSV using pandas\n",
        "df = pd.read_csv('/autos.csv')\n",
        "\n",
        "# Select required columns\n",
        "df = df[[\n",
        "    \"name\", \"seller\", \"price\", \"vehicleType\", \"yearOfRegistration\", \"monthOfRegistration\",\n",
        "    \"gearbox\", \"model\", \"kilometer\", \"notRepairedDamage\", \"fuelType\", \"brand\"\n",
        "]]\n",
        "\n",
        "# Combine year and month into a single column\n",
        "df[\"registrationDate\"] = df[\"yearOfRegistration\"].astype(str) + \"-\" + df[\"monthOfRegistration\"].astype(str).str.zfill(2)\n",
        "\n",
        "# Drop original year and month columns\n",
        "df.drop(columns=[\"yearOfRegistration\", \"monthOfRegistration\"], inplace=True)\n",
        "\n",
        "# Print the cleaned DataFrame\n",
        "print(df)\n",
        "\n",
        "print(\"-\" * 30)\n",
        "\n",
        "# Check for missing and empty values\n",
        "print(\"Missing (NaN) values:\\n\", df.isnull().sum())\n",
        "print(\"\\nEmpty string values:\\n\", (df == '').sum())\n"
      ],
      "metadata": {
        "colab": {
          "base_uri": "https://localhost:8080/"
        },
        "id": "QgzNPv-KpVwu",
        "outputId": "502ac652-7623-4e76-bb34-e955be85983c"
      },
      "execution_count": 5,
      "outputs": [
        {
          "output_type": "stream",
          "name": "stdout",
          "text": [
            "['index', 'dateCrawled', 'name', 'seller', 'offerType', 'price', 'abtest', 'vehicleType', 'yearOfRegistration', 'gearbox', 'powerPS', 'model', 'kilometer', 'monthOfRegistration', 'fuelType', 'brand', 'notRepairedDamage', 'dateCreated', 'nrOfPictures', 'postalCode', 'lastSeen']\n",
            "------------------------------\n",
            "                                                name  seller  price  \\\n",
            "0                                         Golf_3_1.6  privat    480   \n",
            "1                               A5_Sportback_2.7_Tdi  privat  18300   \n",
            "2                     Jeep_Grand_Cherokee_\"Overland\"  privat   9800   \n",
            "3                                 GOLF_4_1_4__3TÜRER  privat   1500   \n",
            "4                     Skoda_Fabia_1.4_TDI_PD_Classic  privat   3600   \n",
            "...                                              ...     ...    ...   \n",
            "371523                    Suche_t4___vito_ab_6_sitze  privat   2200   \n",
            "371524         Smart_smart_leistungssteigerung_100ps  privat   1199   \n",
            "371525            Volkswagen_Multivan_T4_TDI_7DC_UY2  privat   9200   \n",
            "371526                        VW_Golf_Kombi_1_9l_TDI  privat   3400   \n",
            "371527  BMW_M135i_vollausgestattet_NP_52.720____Euro  privat  28990   \n",
            "\n",
            "       vehicleType    gearbox        model  kilometer notRepairedDamage  \\\n",
            "0              NaN    manuell         golf     150000               NaN   \n",
            "1            coupe    manuell          NaN     125000                ja   \n",
            "2              suv  automatik        grand     125000               NaN   \n",
            "3       kleinwagen    manuell         golf     150000              nein   \n",
            "4       kleinwagen    manuell        fabia      90000              nein   \n",
            "...            ...        ...          ...        ...               ...   \n",
            "371523         NaN        NaN          NaN      20000               NaN   \n",
            "371524      cabrio  automatik       fortwo     125000              nein   \n",
            "371525         bus    manuell  transporter     150000              nein   \n",
            "371526       kombi    manuell         golf     150000               NaN   \n",
            "371527   limousine    manuell      m_reihe      50000              nein   \n",
            "\n",
            "       fuelType           brand registrationDate  \n",
            "0        benzin      volkswagen          1993-00  \n",
            "1        diesel            audi          2011-05  \n",
            "2        diesel            jeep          2004-08  \n",
            "3        benzin      volkswagen          2001-06  \n",
            "4        diesel           skoda          2008-07  \n",
            "...         ...             ...              ...  \n",
            "371523      NaN  sonstige_autos          2005-01  \n",
            "371524   benzin           smart          2000-03  \n",
            "371525   diesel      volkswagen          1996-03  \n",
            "371526   diesel      volkswagen          2002-06  \n",
            "371527   benzin             bmw          2013-08  \n",
            "\n",
            "[371528 rows x 11 columns]\n",
            "------------------------------\n",
            "Missing (NaN) values:\n",
            " name                     0\n",
            "seller                   0\n",
            "price                    0\n",
            "vehicleType          37869\n",
            "gearbox              20209\n",
            "model                20484\n",
            "kilometer                0\n",
            "notRepairedDamage    72060\n",
            "fuelType             33386\n",
            "brand                    0\n",
            "registrationDate         0\n",
            "dtype: int64\n",
            "\n",
            "Empty string values:\n",
            " name                 0\n",
            "seller               0\n",
            "price                0\n",
            "vehicleType          0\n",
            "gearbox              0\n",
            "model                0\n",
            "kilometer            0\n",
            "notRepairedDamage    0\n",
            "fuelType             0\n",
            "brand                0\n",
            "registrationDate     0\n",
            "dtype: int64\n"
          ]
        }
      ]
    },
    {
      "cell_type": "markdown",
      "source": [
        "Filling Missing values"
      ],
      "metadata": {
        "id": "WyhBfh1Ip69V"
      }
    },
    {
      "cell_type": "code",
      "source": [
        "import csv\n",
        "import pandas as pd\n",
        "\n",
        "# Open and print first row\n",
        "file = open('/autos.csv', 'r')\n",
        "reader = csv.reader(file)\n",
        "for row in reader:\n",
        "    print(row)\n",
        "    break\n",
        "\n",
        "print(\"-\" * 30)\n",
        "\n",
        "# Load dataset\n",
        "df = pd.read_csv('/autos.csv')\n",
        "\n",
        "# Keep only required columns\n",
        "df = df[[\n",
        "    \"name\", \"seller\", \"price\", \"vehicleType\", \"yearOfRegistration\", \"monthOfRegistration\",\n",
        "    \"gearbox\", \"model\", \"kilometer\", \"notRepairedDamage\", \"fuelType\", \"brand\"\n",
        "]]\n",
        "\n",
        "# Create new column for year-month and drop old ones\n",
        "df[\"registrationDate\"] = df[\"yearOfRegistration\"].astype(str) + \"-\" + df[\"monthOfRegistration\"].astype(str).str.zfill(2)\n",
        "df.drop(columns=[\"yearOfRegistration\", \"monthOfRegistration\"], inplace=True)\n",
        "\n",
        "# Fill missing values without warnings\n",
        "df[\"name\"] = df[\"name\"].fillna(\"not available\")\n",
        "df[\"seller\"] = df[\"seller\"].fillna(\"unknown\")\n",
        "df[\"price\"] = df[\"price\"].fillna(df[\"price\"].median())\n",
        "df[\"vehicleType\"] = df[\"vehicleType\"].fillna(df[\"vehicleType\"].mode()[0])\n",
        "df[\"gearbox\"] = df[\"gearbox\"].fillna(df[\"gearbox\"].mode()[0])\n",
        "df[\"model\"] = df[\"model\"].fillna(df[\"model\"].mode()[0])\n",
        "df[\"kilometer\"] = df[\"kilometer\"].fillna(df[\"kilometer\"].median())\n",
        "df[\"notRepairedDamage\"] = df[\"notRepairedDamage\"].fillna(\"unknown\")\n",
        "df[\"fuelType\"] = df[\"fuelType\"].fillna(df[\"fuelType\"].mode()[0])\n",
        "df[\"brand\"] = df[\"brand\"].fillna(df[\"brand\"].mode()[0])\n",
        "\n",
        "# Save the cleaned full table\n",
        "df.to_csv(\"/autos_cleaned.csv\", index=False)\n",
        "\n",
        "# Print complete table\n",
        "print(df)\n"
      ],
      "metadata": {
        "colab": {
          "base_uri": "https://localhost:8080/"
        },
        "id": "d4uYGQQYp87M",
        "outputId": "1c4abed6-1556-4704-f61e-8a9927bd9e63"
      },
      "execution_count": 9,
      "outputs": [
        {
          "output_type": "stream",
          "name": "stdout",
          "text": [
            "['index', 'dateCrawled', 'name', 'seller', 'offerType', 'price', 'abtest', 'vehicleType', 'yearOfRegistration', 'gearbox', 'powerPS', 'model', 'kilometer', 'monthOfRegistration', 'fuelType', 'brand', 'notRepairedDamage', 'dateCreated', 'nrOfPictures', 'postalCode', 'lastSeen']\n",
            "------------------------------\n",
            "                                                name  seller  price  \\\n",
            "0                                         Golf_3_1.6  privat    480   \n",
            "1                               A5_Sportback_2.7_Tdi  privat  18300   \n",
            "2                     Jeep_Grand_Cherokee_\"Overland\"  privat   9800   \n",
            "3                                 GOLF_4_1_4__3TÜRER  privat   1500   \n",
            "4                     Skoda_Fabia_1.4_TDI_PD_Classic  privat   3600   \n",
            "...                                              ...     ...    ...   \n",
            "371523                    Suche_t4___vito_ab_6_sitze  privat   2200   \n",
            "371524         Smart_smart_leistungssteigerung_100ps  privat   1199   \n",
            "371525            Volkswagen_Multivan_T4_TDI_7DC_UY2  privat   9200   \n",
            "371526                        VW_Golf_Kombi_1_9l_TDI  privat   3400   \n",
            "371527  BMW_M135i_vollausgestattet_NP_52.720____Euro  privat  28990   \n",
            "\n",
            "       vehicleType    gearbox        model  kilometer notRepairedDamage  \\\n",
            "0        limousine    manuell         golf     150000           unknown   \n",
            "1            coupe    manuell         golf     125000                ja   \n",
            "2              suv  automatik        grand     125000           unknown   \n",
            "3       kleinwagen    manuell         golf     150000              nein   \n",
            "4       kleinwagen    manuell        fabia      90000              nein   \n",
            "...            ...        ...          ...        ...               ...   \n",
            "371523   limousine    manuell         golf      20000           unknown   \n",
            "371524      cabrio  automatik       fortwo     125000              nein   \n",
            "371525         bus    manuell  transporter     150000              nein   \n",
            "371526       kombi    manuell         golf     150000           unknown   \n",
            "371527   limousine    manuell      m_reihe      50000              nein   \n",
            "\n",
            "       fuelType           brand registrationDate  \n",
            "0        benzin      volkswagen          1993-00  \n",
            "1        diesel            audi          2011-05  \n",
            "2        diesel            jeep          2004-08  \n",
            "3        benzin      volkswagen          2001-06  \n",
            "4        diesel           skoda          2008-07  \n",
            "...         ...             ...              ...  \n",
            "371523   benzin  sonstige_autos          2005-01  \n",
            "371524   benzin           smart          2000-03  \n",
            "371525   diesel      volkswagen          1996-03  \n",
            "371526   diesel      volkswagen          2002-06  \n",
            "371527   benzin             bmw          2013-08  \n",
            "\n",
            "[371528 rows x 11 columns]\n"
          ]
        }
      ]
    },
    {
      "cell_type": "markdown",
      "source": [
        " **VISUALIZATION**"
      ],
      "metadata": {
        "id": "kAheYtUjqyAz"
      }
    },
    {
      "cell_type": "markdown",
      "source": [
        "Conditions to compareand get desired visualiztion\n",
        "\n",
        "*  Average price comparison\n",
        "\n",
        "* Price distribution\n",
        "\n",
        "* Seller count comparison\n",
        "\n",
        "* Geographic insights (via postal codes)\n"
      ],
      "metadata": {
        "id": "f4Q3wXTErX6S"
      }
    },
    {
      "cell_type": "code",
      "source": [
        "#Average price comparison\n",
        "import pandas as pd\n",
        "import matplotlib.pyplot as plt\n",
        "import seaborn as sns\n",
        "\n",
        "# Load cleaned data\n",
        "df = pd.read_csv('/autos_cleaned.csv')\n",
        "\n",
        "# Show unique seller types\n",
        "print(\"Seller Types:\\n\", df[\"seller\"].value_counts())\n"
      ],
      "metadata": {
        "colab": {
          "base_uri": "https://localhost:8080/"
        },
        "id": "Q4ObZCmmsQih",
        "outputId": "fabe5ce7-dddb-4454-cbc7-063b3d497fdf"
      },
      "execution_count": 11,
      "outputs": [
        {
          "output_type": "stream",
          "name": "stdout",
          "text": [
            "Seller Types:\n",
            " seller\n",
            "privat        371525\n",
            "gewerblich         3\n",
            "Name: count, dtype: int64\n"
          ]
        }
      ]
    },
    {
      "cell_type": "code",
      "source": [
        "#Price distribution\n",
        "avg_price_by_seller = df.groupby(\"seller\")[\"price\"].mean().sort_values()\n",
        "print(\"Average Price by Seller:\\n\", avg_price_by_seller)\n"
      ],
      "metadata": {
        "colab": {
          "base_uri": "https://localhost:8080/"
        },
        "id": "3N6EAijAsZln",
        "outputId": "d10fb2d1-1cfb-472a-ab3b-81d16d0af1af"
      },
      "execution_count": 13,
      "outputs": [
        {
          "output_type": "stream",
          "name": "stdout",
          "text": [
            "Average Price by Seller:\n",
            " seller\n",
            "gewerblich     2700.000000\n",
            "privat        17295.259719\n",
            "Name: price, dtype: float64\n"
          ]
        }
      ]
    },
    {
      "cell_type": "code",
      "source": [
        "#Seller count comparison\n",
        "plt.figure(figsize=(10,5))\n",
        "sns.boxplot(x=\"seller\", y=\"price\", data=df)\n",
        "plt.title(\"Price Distribution by Seller Type\")\n",
        "plt.ylabel(\"Price (€)\")\n",
        "plt.show()\n"
      ],
      "metadata": {
        "colab": {
          "base_uri": "https://localhost:8080/",
          "height": 487
        },
        "id": "CabqwpJlsaV9",
        "outputId": "6ed3de1e-2561-41e4-b8f9-7a9299bac420"
      },
      "execution_count": 15,
      "outputs": [
        {
          "output_type": "display_data",
          "data": {
            "text/plain": [
              "<Figure size 1000x500 with 1 Axes>"
            ],
            "image/png": "[encoded data removed]"
          },
          "metadata": {}
        }
      ]
    },
    {
      "cell_type": "code",
      "source": [
        "#Count of Listings by Seller Type\n",
        "seller_counts = df[\"seller\"].value_counts()\n",
        "print(\"Number of Listings:\\n\", seller_counts)\n"
      ],
      "metadata": {
        "colab": {
          "base_uri": "https://localhost:8080/"
        },
        "id": "1gQfHju4sg-8",
        "outputId": "1754b859-469c-4655-f67d-74eaef0772fc"
      },
      "execution_count": 16,
      "outputs": [
        {
          "output_type": "stream",
          "name": "stdout",
          "text": [
            "Number of Listings:\n",
            " seller\n",
            "privat        371525\n",
            "gewerblich         3\n",
            "Name: count, dtype: int64\n"
          ]
        }
      ]
    },
    {
      "cell_type": "code",
      "source": [
        "#Geographic Info: Postal Code Analysis (if applicable)\n",
        "if \"postalCode\" in pd.read_csv(\"/autos.csv\").columns:\n",
        "    df_geo = pd.read_csv(\"/autos.csv\")[[\"seller\", \"postalCode\", \"price\"]]\n",
        "    geo_stats = df_geo.groupby([\"seller\", \"postalCode\"]).price.mean().reset_index()\n",
        "    print(\"Sample Location-Based Price Insight:\\n\", geo_stats.head(10))\n",
        "else:\n",
        "    print(\"No postalCode info available for location-based analysis.\")\n"
      ],
      "metadata": {
        "colab": {
          "base_uri": "https://localhost:8080/"
        },
        "id": "jaVV1k6ysyyf",
        "outputId": "4789e9c9-c12f-47d5-d3a3-f10f9976f690"
      },
      "execution_count": 17,
      "outputs": [
        {
          "output_type": "stream",
          "name": "stdout",
          "text": [
            "Sample Location-Based Price Insight:\n",
            "        seller  postalCode         price\n",
            "0  gewerblich        7973   1100.000000\n",
            "1  gewerblich       65232    100.000000\n",
            "2  gewerblich       73614   6900.000000\n",
            "3      privat        1067   6857.906250\n",
            "4      privat        1068  13299.000000\n",
            "5      privat        1069   6002.745763\n",
            "6      privat        1097   4450.310345\n",
            "7      privat        1099   7284.537313\n",
            "8      privat        1108   3795.666667\n",
            "9      privat        1109   3870.725000\n"
          ]
        }
      ]
    },
    {
      "cell_type": "markdown",
      "source": [
        "Dealers often have higher average prices, but usually offer newer or guaranteed vehicles.\n",
        "\n",
        "Private sellers usually provide lower prices, but may vary in vehicle condition.\n",
        "\n",
        "If geographic data (postalCode) is present, you can identify areas with cheaper deals."
      ],
      "metadata": {
        "id": "VTctP5Xrs9iO"
      }
    },
    {
      "cell_type": "code",
      "source": [
        "#Which vehicle types are generally more expensive?\n",
        "plt.figure(figsize=(10,5))\n",
        "sns.barplot(x=\"vehicleType\", y=\"price\", data=df, estimator='mean')\n",
        "plt.title(\"Average Price by Vehicle Type\")\n",
        "plt.xticks(rotation=45)\n",
        "plt.ylabel(\"Average Price (€)\")\n",
        "plt.show()\n"
      ],
      "metadata": {
        "colab": {
          "base_uri": "https://localhost:8080/",
          "height": 539
        },
        "id": "PbvYp5NDxIUv",
        "outputId": "28a10f45-864b-49fc-da7e-96e42ba04fef"
      },
      "execution_count": 21,
      "outputs": [
        {
          "output_type": "display_data",
          "data": {
            "text/plain": [
              "<Figure size 1000x500 with 1 Axes>"
            ],
            "image/png": "[encoded data removed]"
          },
          "metadata": {}
        }
      ]
    },
    {
      "cell_type": "code",
      "source": [
        "#Model Popularity\n",
        "top_models = df[\"model\"].value_counts().nlargest(10)\n",
        "plt.figure(figsize=(10,5))\n",
        "sns.barplot(x=top_models.index, y=top_models.values)\n",
        "plt.title(\"Top 10 Most Listed Car Models\")\n",
        "plt.ylabel(\"Count\")\n",
        "plt.xticks(rotation=45)\n",
        "plt.show()\n"
      ],
      "metadata": {
        "colab": {
          "base_uri": "https://localhost:8080/",
          "height": 524
        },
        "id": "5xip371exm12",
        "outputId": "08f5d4b2-041b-4b99-9550-d653afff3a2b"
      },
      "execution_count": 22,
      "outputs": [
        {
          "output_type": "display_data",
          "data": {
            "text/plain": [
              "<Figure size 1000x500 with 1 Axes>"
            ],
            "image/png": "[encoded data removed]"
          },
          "metadata": {}
        }
      ]
    },
    {
      "cell_type": "code",
      "source": [
        "#Gearbox Type vs Price\n",
        "plt.figure(figsize=(6,5))\n",
        "sns.barplot(data=df, x=\"gearbox\", y=\"price\")\n",
        "plt.title(\"Price Distribution by Gearbox Type\")\n",
        "plt.show()\n"
      ],
      "metadata": {
        "colab": {
          "base_uri": "https://localhost:8080/",
          "height": 487
        },
        "id": "2BCTay5NxtuF",
        "outputId": "27dda4b6-a438-4720-e440-d3d588b6e288"
      },
      "execution_count": 24,
      "outputs": [
        {
          "output_type": "display_data",
          "data": {
            "text/plain": [
              "<Figure size 600x500 with 1 Axes>"
            ],
            "image/png": "[encoded data removed]"
          },
          "metadata": {}
        }
      ]
    },
    {
      "cell_type": "code",
      "source": [],
      "metadata": {
        "colab": {
          "base_uri": "https://localhost:8080/",
          "height": 375
        },
        "id": "9SxVyRPKyqA0",
        "outputId": "f78745f9-b945-4f1f-af81-210ada492f5d"
      },
      "execution_count": 25,
      "outputs": [
        {
          "output_type": "error",
          "ename": "FileNotFoundError",
          "evalue": "[Errno 2] No such file or directory: '/mnt/data/autos_cleaned.csv'",
          "traceback": [
            "\u001b[0;31m---------------------------------------------------------------------------\u001b[0m",
            "\u001b[0;31mFileNotFoundError\u001b[0m                         Traceback (most recent call last)",
            "\u001b[0;32m<ipython-input-25-d405c99db2cb>\u001b[0m in \u001b[0;36m<cell line: 0>\u001b[0;34m()\u001b[0m\n\u001b[1;32m      4\u001b[0m \u001b[0;34m\u001b[0m\u001b[0m\n\u001b[1;32m      5\u001b[0m \u001b[0;31m# Load the cleaned dataset\u001b[0m\u001b[0;34m\u001b[0m\u001b[0;34m\u001b[0m\u001b[0m\n\u001b[0;32m----> 6\u001b[0;31m \u001b[0mdf\u001b[0m \u001b[0;34m=\u001b[0m \u001b[0mpd\u001b[0m\u001b[0;34m.\u001b[0m\u001b[0mread_csv\u001b[0m\u001b[0;34m(\u001b[0m\u001b[0;34m'/mnt/data/autos_cleaned.csv'\u001b[0m\u001b[0;34m)\u001b[0m\u001b[0;34m\u001b[0m\u001b[0;34m\u001b[0m\u001b[0m\n\u001b[0m\u001b[1;32m      7\u001b[0m \u001b[0;34m\u001b[0m\u001b[0m\n\u001b[1;32m      8\u001b[0m \u001b[0;31m# Extract year from registrationDate column\u001b[0m\u001b[0;34m\u001b[0m\u001b[0;34m\u001b[0m\u001b[0m\n",
            "\u001b[0;32m/usr/local/lib/python3.11/dist-packages/pandas/io/parsers/readers.py\u001b[0m in \u001b[0;36mread_csv\u001b[0;34m(filepath_or_buffer, sep, delimiter, header, names, index_col, usecols, dtype, engine, converters, true_values, false_values, skipinitialspace, skiprows, skipfooter, nrows, na_values, keep_default_na, na_filter, verbose, skip_blank_lines, parse_dates, infer_datetime_format, keep_date_col, date_parser, date_format, dayfirst, cache_dates, iterator, chunksize, compression, thousands, decimal, lineterminator, quotechar, quoting, doublequote, escapechar, comment, encoding, encoding_errors, dialect, on_bad_lines, delim_whitespace, low_memory, memory_map, float_precision, storage_options, dtype_backend)\u001b[0m\n\u001b[1;32m   1024\u001b[0m     \u001b[0mkwds\u001b[0m\u001b[0;34m.\u001b[0m\u001b[0mupdate\u001b[0m\u001b[0;34m(\u001b[0m\u001b[0mkwds_defaults\u001b[0m\u001b[0;34m)\u001b[0m\u001b[0;34m\u001b[0m\u001b[0;34m\u001b[0m\u001b[0m\n\u001b[1;32m   1025\u001b[0m \u001b[0;34m\u001b[0m\u001b[0m\n\u001b[0;32m-> 1026\u001b[0;31m     \u001b[0;32mreturn\u001b[0m \u001b[0m_read\u001b[0m\u001b[0;34m(\u001b[0m\u001b[0mfilepath_or_buffer\u001b[0m\u001b[0;34m,\u001b[0m \u001b[0mkwds\u001b[0m\u001b[0;34m)\u001b[0m\u001b[0;34m\u001b[0m\u001b[0;34m\u001b[0m\u001b[0m\n\u001b[0m\u001b[1;32m   1027\u001b[0m \u001b[0;34m\u001b[0m\u001b[0m\n\u001b[1;32m   1028\u001b[0m \u001b[0;34m\u001b[0m\u001b[0m\n",
            "\u001b[0;32m/usr/local/lib/python3.11/dist-packages/pandas/io/parsers/readers.py\u001b[0m in \u001b[0;36m_read\u001b[0;34m(filepath_or_buffer, kwds)\u001b[0m\n\u001b[1;32m    618\u001b[0m \u001b[0;34m\u001b[0m\u001b[0m\n\u001b[1;32m    619\u001b[0m     \u001b[0;31m# Create the parser.\u001b[0m\u001b[0;34m\u001b[0m\u001b[0;34m\u001b[0m\u001b[0m\n\u001b[0;32m--> 620\u001b[0;31m     \u001b[0mparser\u001b[0m \u001b[0;34m=\u001b[0m \u001b[0mTextFileReader\u001b[0m\u001b[0;34m(\u001b[0m\u001b[0mfilepath_or_buffer\u001b[0m\u001b[0;34m,\u001b[0m \u001b[0;34m**\u001b[0m\u001b[0mkwds\u001b[0m\u001b[0;34m)\u001b[0m\u001b[0;34m\u001b[0m\u001b[0;34m\u001b[0m\u001b[0m\n\u001b[0m\u001b[1;32m    621\u001b[0m \u001b[0;34m\u001b[0m\u001b[0m\n\u001b[1;32m    622\u001b[0m     \u001b[0;32mif\u001b[0m \u001b[0mchunksize\u001b[0m \u001b[0;32mor\u001b[0m \u001b[0miterator\u001b[0m\u001b[0;34m:\u001b[0m\u001b[0;34m\u001b[0m\u001b[0;34m\u001b[0m\u001b[0m\n",
            "\u001b[0;32m/usr/local/lib/python3.11/dist-packages/pandas/io/parsers/readers.py\u001b[0m in \u001b[0;36m__init__\u001b[0;34m(self, f, engine, **kwds)\u001b[0m\n\u001b[1;32m   1618\u001b[0m \u001b[0;34m\u001b[0m\u001b[0m\n\u001b[1;32m   1619\u001b[0m         \u001b[0mself\u001b[0m\u001b[0;34m.\u001b[0m\u001b[0mhandles\u001b[0m\u001b[0;34m:\u001b[0m \u001b[0mIOHandles\u001b[0m \u001b[0;34m|\u001b[0m \u001b[0;32mNone\u001b[0m \u001b[0;34m=\u001b[0m \u001b[0;32mNone\u001b[0m\u001b[0;34m\u001b[0m\u001b[0;34m\u001b[0m\u001b[0m\n\u001b[0;32m-> 1620\u001b[0;31m         \u001b[0mself\u001b[0m\u001b[0;34m.\u001b[0m\u001b[0m_engine\u001b[0m \u001b[0;34m=\u001b[0m \u001b[0mself\u001b[0m\u001b[0;34m.\u001b[0m\u001b[0m_make_engine\u001b[0m\u001b[0;34m(\u001b[0m\u001b[0mf\u001b[0m\u001b[0;34m,\u001b[0m \u001b[0mself\u001b[0m\u001b[0;34m.\u001b[0m\u001b[0mengine\u001b[0m\u001b[0;34m)\u001b[0m\u001b[0;34m\u001b[0m\u001b[0;34m\u001b[0m\u001b[0m\n\u001b[0m\u001b[1;32m   1621\u001b[0m \u001b[0;34m\u001b[0m\u001b[0m\n\u001b[1;32m   1622\u001b[0m     \u001b[0;32mdef\u001b[0m \u001b[0mclose\u001b[0m\u001b[0;34m(\u001b[0m\u001b[0mself\u001b[0m\u001b[0;34m)\u001b[0m \u001b[0;34m->\u001b[0m \u001b[0;32mNone\u001b[0m\u001b[0;34m:\u001b[0m\u001b[0;34m\u001b[0m\u001b[0;34m\u001b[0m\u001b[0m\n",
            "\u001b[0;32m/usr/local/lib/python3.11/dist-packages/pandas/io/parsers/readers.py\u001b[0m in \u001b[0;36m_make_engine\u001b[0;34m(self, f, engine)\u001b[0m\n\u001b[1;32m   1878\u001b[0m                 \u001b[0;32mif\u001b[0m \u001b[0;34m\"b\"\u001b[0m \u001b[0;32mnot\u001b[0m \u001b[0;32min\u001b[0m \u001b[0mmode\u001b[0m\u001b[0;34m:\u001b[0m\u001b[0;34m\u001b[0m\u001b[0;34m\u001b[0m\u001b[0m\n\u001b[1;32m   1879\u001b[0m                     \u001b[0mmode\u001b[0m \u001b[0;34m+=\u001b[0m \u001b[0;34m\"b\"\u001b[0m\u001b[0;34m\u001b[0m\u001b[0;34m\u001b[0m\u001b[0m\n\u001b[0;32m-> 1880\u001b[0;31m             self.handles = get_handle(\n\u001b[0m\u001b[1;32m   1881\u001b[0m                 \u001b[0mf\u001b[0m\u001b[0;34m,\u001b[0m\u001b[0;34m\u001b[0m\u001b[0;34m\u001b[0m\u001b[0m\n\u001b[1;32m   1882\u001b[0m                 \u001b[0mmode\u001b[0m\u001b[0;34m,\u001b[0m\u001b[0;34m\u001b[0m\u001b[0;34m\u001b[0m\u001b[0m\n",
            "\u001b[0;32m/usr/local/lib/python3.11/dist-packages/pandas/io/common.py\u001b[0m in \u001b[0;36mget_handle\u001b[0;34m(path_or_buf, mode, encoding, compression, memory_map, is_text, errors, storage_options)\u001b[0m\n\u001b[1;32m    871\u001b[0m         \u001b[0;32mif\u001b[0m \u001b[0mioargs\u001b[0m\u001b[0;34m.\u001b[0m\u001b[0mencoding\u001b[0m \u001b[0;32mand\u001b[0m \u001b[0;34m\"b\"\u001b[0m \u001b[0;32mnot\u001b[0m \u001b[0;32min\u001b[0m \u001b[0mioargs\u001b[0m\u001b[0;34m.\u001b[0m\u001b[0mmode\u001b[0m\u001b[0;34m:\u001b[0m\u001b[0;34m\u001b[0m\u001b[0;34m\u001b[0m\u001b[0m\n\u001b[1;32m    872\u001b[0m             \u001b[0;31m# Encoding\u001b[0m\u001b[0;34m\u001b[0m\u001b[0;34m\u001b[0m\u001b[0m\n\u001b[0;32m--> 873\u001b[0;31m             handle = open(\n\u001b[0m\u001b[1;32m    874\u001b[0m                 \u001b[0mhandle\u001b[0m\u001b[0;34m,\u001b[0m\u001b[0;34m\u001b[0m\u001b[0;34m\u001b[0m\u001b[0m\n\u001b[1;32m    875\u001b[0m                 \u001b[0mioargs\u001b[0m\u001b[0;34m.\u001b[0m\u001b[0mmode\u001b[0m\u001b[0;34m,\u001b[0m\u001b[0;34m\u001b[0m\u001b[0;34m\u001b[0m\u001b[0m\n",
            "\u001b[0;31mFileNotFoundError\u001b[0m: [Errno 2] No such file or directory: '/mnt/data/autos_cleaned.csv'"
          ]
        }
      ]
    }
  ]
}